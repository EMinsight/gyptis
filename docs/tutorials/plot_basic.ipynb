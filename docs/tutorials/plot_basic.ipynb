{
  "cells": [
    {
      "cell_type": "code",
      "execution_count": null,
      "metadata": {
        "collapsed": false
      },
      "outputs": [],
      "source": [
        "# This file is part of gyptis\n# License: MIT\n%matplotlib notebook"
      ]
    },
    {
      "cell_type": "markdown",
      "metadata": {},
      "source": [
        "\n# Tutorial: a scattering simulation in 2D\n"
      ]
    },
    {
      "cell_type": "markdown",
      "metadata": {},
      "source": [
        "We first need to import the Python packages\n\n"
      ]
    },
    {
      "cell_type": "code",
      "execution_count": null,
      "metadata": {
        "collapsed": false
      },
      "outputs": [],
      "source": [
        "import matplotlib.pyplot as plt\nimport numpy as np\nimport gyptis as gy\n\nplt.ion()\nplt.close(\"all\")"
      ]
    },
    {
      "cell_type": "markdown",
      "metadata": {},
      "source": [
        "Define the wavelength of operation. This can be choosen arbitrarily, but\nit is best for numerical stability not to use too big/small numbers\n(e.g. if we work in optics, it is better to assume the\nunits are in microns amd use ``wavelength = 0.8`` rather than considering\nmeters and ``wavelength = 800e-9``).\n\n"
      ]
    },
    {
      "cell_type": "code",
      "execution_count": null,
      "metadata": {
        "collapsed": false
      },
      "outputs": [],
      "source": [
        "wavelength = 0.8"
      ]
    },
    {
      "cell_type": "markdown",
      "metadata": {},
      "source": [
        "We now define the geometry using the class :class:`~gyptis.BoxPML`.\nThis is a rectangular box in 2D (with the argument `dim=2`) centered at the\norigin by default and surrounded by Cartesian PErfectly Matched Layers.\nThe important arguments are its size `box_size` and  the witdh of the\nPMLs along $x$ and $y$\n\n"
      ]
    },
    {
      "cell_type": "code",
      "execution_count": null,
      "metadata": {
        "collapsed": false
      },
      "outputs": [],
      "source": [
        "geom = gy.BoxPML(\n    dim=2,\n    box_size=(4 * wavelength, 4 * wavelength),\n    pml_width=(wavelength, wavelength),\n)"
      ]
    },
    {
      "cell_type": "markdown",
      "metadata": {},
      "source": [
        "We can now build and mesh the geometry. The method\n:meth:`~gyptis.BoxPML.build` takes an ``interactive`` boolean argument\nto open and wisualize the geometry in ``gmsh`` (usefull for debugging).\n\n"
      ]
    },
    {
      "cell_type": "code",
      "execution_count": null,
      "metadata": {
        "collapsed": false
      },
      "outputs": [],
      "source": [
        "geom.build(finalize=False)"
      ]
    },
    {
      "cell_type": "markdown",
      "metadata": {},
      "source": [
        "Let's plot the geometry and mesh.\n\n"
      ]
    },
    {
      "cell_type": "code",
      "execution_count": null,
      "metadata": {
        "collapsed": false
      },
      "outputs": [],
      "source": [
        "fig, ax = plt.subplots(figsize=(3, 3))\ngeom.plot_subdomains(ax=ax)\ngeom.plot_mesh(ax=ax, color=\"red\")\nplt.axis(\"equal\")\nplt.xlabel(\"$x$ (\u03bcm)\")\nplt.ylabel(\"$y$ (\u03bcm)\")\nplt.tight_layout()"
      ]
    },
    {
      "cell_type": "markdown",
      "metadata": {},
      "source": [
        ".. attention::\n      A geometry object cannot be modified after the method\n      :meth:`~gyptis.BoxPML.build` has been called. We need to create a new object,\n      define the geometry and set mesh parameters before building.\n\n"
      ]
    },
    {
      "cell_type": "markdown",
      "metadata": {},
      "source": [
        "Now we add a circular rod.\n\n"
      ]
    },
    {
      "cell_type": "code",
      "execution_count": null,
      "metadata": {
        "collapsed": false
      },
      "outputs": [],
      "source": [
        "scatt = geom.add_circle(0, 0, 0, wavelength / 2)"
      ]
    },
    {
      "cell_type": "markdown",
      "metadata": {},
      "source": [
        "We use the boolean operation :meth:`~gyptis.BoxPML.fragment` to substract \nthe rod from the box and get the remaining entities:\n\n"
      ]
    },
    {
      "cell_type": "code",
      "execution_count": null,
      "metadata": {
        "collapsed": false
      },
      "outputs": [],
      "source": [
        "scatt, box = geom.fragment(scatt, geom.box)"
      ]
    },
    {
      "cell_type": "markdown",
      "metadata": {},
      "source": [
        "Add physical domains:\n\n"
      ]
    },
    {
      "cell_type": "code",
      "execution_count": null,
      "metadata": {
        "collapsed": false
      },
      "outputs": [],
      "source": [
        "geom.add_physical(box, \"box\")\ngeom.add_physical(scatt, \"rod\")"
      ]
    },
    {
      "cell_type": "markdown",
      "metadata": {},
      "source": [
        "And set the mesh sizes:\n\n"
      ]
    },
    {
      "cell_type": "code",
      "execution_count": null,
      "metadata": {
        "collapsed": false
      },
      "outputs": [],
      "source": [
        "geom.set_pml_mesh_size(wavelength / 5)\ngeom.set_size(\"box\", wavelength / 6)\ngeom.set_size(\"rod\", wavelength / 10)"
      ]
    },
    {
      "cell_type": "markdown",
      "metadata": {},
      "source": [
        "Now we can build it:\n\n"
      ]
    },
    {
      "cell_type": "code",
      "execution_count": null,
      "metadata": {
        "collapsed": false
      },
      "outputs": [],
      "source": [
        "geom.build()"
      ]
    },
    {
      "cell_type": "markdown",
      "metadata": {},
      "source": [
        "Visualize the mesh:\n\n"
      ]
    },
    {
      "cell_type": "code",
      "execution_count": null,
      "metadata": {
        "collapsed": false
      },
      "outputs": [],
      "source": [
        "fig, ax = plt.subplots(figsize=(3, 3))\ngeom.plot_subdomains(ax=ax)\ngeom.plot_mesh(ax=ax, color=\"red\")\nplt.axis(\"equal\")\nplt.xlabel(\"$x$ (\u03bcm)\")\nplt.ylabel(\"$y$ (\u03bcm)\")\nplt.tight_layout()"
      ]
    },
    {
      "cell_type": "markdown",
      "metadata": {},
      "source": [
        "Visualize the subdomains:\n\n"
      ]
    },
    {
      "cell_type": "code",
      "execution_count": null,
      "metadata": {
        "collapsed": false
      },
      "outputs": [],
      "source": [
        "fig, ax = plt.subplots(figsize=(3, 2.3))\nout = geom.plot_subdomains(markers=True,ax=ax)\nplt.axis(\"scaled\")\nplt.xlabel(\"$x$ (\u03bcm)\")\nplt.ylabel(\"$y$ (\u03bcm)\")\nplt.tight_layout()\n\n\n\n\n\n# pw = gy.PlaneWave(wavelength=wl, angle=0, dim=2, domain=geom.mesh, degree=2)\n# epsilon = dict(box=1, scatt=3)\n# mu = dict(box=1, scatt=1)\n#\n# s = gy.Scattering(\n#     geom,\n#     epsilon,\n#     mu,\n#     pw,\n#     degree=2,\n#     polarization=\"TE\",\n# )\n# s.solve()\n# s.plot_field()\n# # geom.plot_mesh(lw=0.1)\n# geom_lines = geom.plot_subdomains()\n# plt.xlabel(r\"$x$ (nm)\")\n# plt.ylabel(r\"$y$ (nm)\")\n# plt.tight_layout()"
      ]
    },
    {
      "cell_type": "code",
      "execution_count": null,
      "metadata": {
        "collapsed": false
      },
      "outputs": [],
      "source": [
        "import gyptis.utils.jupyter\n%gyptis_version_table"
      ]
    }
  ],
  "metadata": {
    "kernelspec": {
      "display_name": "Python 3",
      "language": "python",
      "name": "python3"
    },
    "language_info": {
      "codemirror_mode": {
        "name": "ipython",
        "version": 3
      },
      "file_extension": ".py",
      "mimetype": "text/x-python",
      "name": "python",
      "nbconvert_exporter": "python",
      "pygments_lexer": "ipython3",
      "version": "3.9.13"
    }
  },
  "nbformat": 4,
  "nbformat_minor": 0
}